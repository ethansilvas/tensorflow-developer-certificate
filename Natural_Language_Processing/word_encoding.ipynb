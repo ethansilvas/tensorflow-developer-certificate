{
 "cells": [
  {
   "cell_type": "code",
   "execution_count": 19,
   "id": "8ed3c100-618b-453b-a25f-49e444e6398b",
   "metadata": {},
   "outputs": [],
   "source": [
    "import tensorflow as tf \n",
    "from tensorflow import keras \n",
    "from tensorflow.keras.preprocessing.text import Tokenizer    # creates vectors out of sentences"
   ]
  },
  {
   "cell_type": "code",
   "execution_count": 20,
   "id": "c973da5d-87f0-48ba-bb25-fefd0d4820a5",
   "metadata": {},
   "outputs": [],
   "source": [
    "sentences = [\n",
    "    'I love my dog',\n",
    "    'I love my cat',\n",
    "    'You love my dog!',\n",
    "    'Do you think my dog is amazing?'\n",
    "]"
   ]
  },
  {
   "cell_type": "code",
   "execution_count": 21,
   "id": "b3b00d63-71fd-47a6-9a21-20272cdafe92",
   "metadata": {},
   "outputs": [
    {
     "name": "stdout",
     "output_type": "stream",
     "text": [
      "{'my': 1, 'love': 2, 'dog': 3, 'i': 4, 'you': 5, 'cat': 6, 'do': 7, 'think': 8, 'is': 9, 'amazing': 10}\n"
     ]
    }
   ],
   "source": [
    "# creates instance of tokenizer \n",
    "# num_words takes top 100 words by volume and only encodes those\n",
    "# might lightly affect accuracy but will hugely affect train time\n",
    "tokenizer = Tokenizer(num_words=100)\n",
    "\n",
    "# takes in data and encodes\n",
    "tokenizer.fit_on_texts(sentences)\n",
    "\n",
    "# word_index returns diction where key is word and value is token for the word\n",
    "# auto converts to lowercase and strips out punctuation\n",
    "word_index = tokenizer.word_index\n",
    "print(word_index)"
   ]
  },
  {
   "cell_type": "code",
   "execution_count": 22,
   "id": "4eba50c9-4ee0-4d98-9340-f055d1546828",
   "metadata": {},
   "outputs": [
    {
     "name": "stdout",
     "output_type": "stream",
     "text": [
      "[[4, 2, 1, 3], [4, 2, 1, 6], [5, 2, 1, 3], [7, 5, 8, 1, 3, 9, 10]]\n"
     ]
    }
   ],
   "source": [
    "# uses tokens to turn sentences into lists of tokens\n",
    "# texts_to_sequences can take ANY sentence and encode them using tokens learned using fit_on_texts()\n",
    "sequences = tokenizer.texts_to_sequences(sentences)\n",
    "print(sequences)"
   ]
  },
  {
   "cell_type": "code",
   "execution_count": 23,
   "id": "613d4af0-b298-4bcd-99c3-a51506b5015e",
   "metadata": {},
   "outputs": [
    {
     "name": "stdout",
     "output_type": "stream",
     "text": [
      "[[4, 2, 1, 3], [1, 3, 1]]\n"
     ]
    }
   ],
   "source": [
    "# need to encode any test data using the same word index\n",
    "# notice that the output has words missing because they arent a part of the word_index created in training\n",
    "test_data = [\n",
    "    'i really love my dog',\n",
    "    'my dog loves my manatee'\n",
    "]\n",
    "\n",
    "test_seq = tokenizer.texts_to_sequences(test_data)\n",
    "print(test_seq)"
   ]
  },
  {
   "cell_type": "code",
   "execution_count": null,
   "id": "c67dd267-36a7-445e-9f66-cbfcf1d1649b",
   "metadata": {},
   "outputs": [],
   "source": []
  }
 ],
 "metadata": {
  "kernelspec": {
   "display_name": "Python 3 (ipykernel)",
   "language": "python",
   "name": "python3"
  },
  "language_info": {
   "codemirror_mode": {
    "name": "ipython",
    "version": 3
   },
   "file_extension": ".py",
   "mimetype": "text/x-python",
   "name": "python",
   "nbconvert_exporter": "python",
   "pygments_lexer": "ipython3",
   "version": "3.10.8"
  }
 },
 "nbformat": 4,
 "nbformat_minor": 5
}
