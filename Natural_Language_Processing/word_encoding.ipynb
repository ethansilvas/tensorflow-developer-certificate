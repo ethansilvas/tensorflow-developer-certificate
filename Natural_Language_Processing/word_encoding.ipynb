{
 "cells": [
  {
   "cell_type": "code",
   "execution_count": 2,
   "id": "8ed3c100-618b-453b-a25f-49e444e6398b",
   "metadata": {},
   "outputs": [],
   "source": [
    "import tensorflow as tf \n",
    "from tensorflow import keras \n",
    "from tensorflow.keras.preprocessing.text import Tokenizer    # creates vectors out of sentences"
   ]
  },
  {
   "cell_type": "code",
   "execution_count": 7,
   "id": "c973da5d-87f0-48ba-bb25-fefd0d4820a5",
   "metadata": {},
   "outputs": [],
   "source": [
    "sentences = [\n",
    "    'I love my dog',\n",
    "    'I love my cat',\n",
    "    'You love my dog!'\n",
    "]"
   ]
  },
  {
   "cell_type": "code",
   "execution_count": 9,
   "id": "b3b00d63-71fd-47a6-9a21-20272cdafe92",
   "metadata": {},
   "outputs": [
    {
     "name": "stdout",
     "output_type": "stream",
     "text": [
      "{'love': 1, 'my': 2, 'i': 3, 'dog': 4, 'cat': 5, 'you': 6}\n"
     ]
    }
   ],
   "source": [
    "# creates instance of tokenizer \n",
    "# num_words takes top 100 words by volume and only encodes those\n",
    "# might lightly affect accuracy but will hugely affect train time\n",
    "tokenizer = Tokenizer(num_words=100)\n",
    "\n",
    "# takes in data and encodes\n",
    "tokenizer.fit_on_texts(sentences)\n",
    "\n",
    "# word_index returns diction where key is word and value is token for the word\n",
    "# auto converts to lowercase and strips out punctuation\n",
    "word_index = tokenizer.word_index\n",
    "print(word_index)"
   ]
  },
  {
   "cell_type": "code",
   "execution_count": null,
   "id": "4eba50c9-4ee0-4d98-9340-f055d1546828",
   "metadata": {},
   "outputs": [],
   "source": []
  }
 ],
 "metadata": {
  "kernelspec": {
   "display_name": "Python 3 (ipykernel)",
   "language": "python",
   "name": "python3"
  },
  "language_info": {
   "codemirror_mode": {
    "name": "ipython",
    "version": 3
   },
   "file_extension": ".py",
   "mimetype": "text/x-python",
   "name": "python",
   "nbconvert_exporter": "python",
   "pygments_lexer": "ipython3",
   "version": "3.10.8"
  }
 },
 "nbformat": 4,
 "nbformat_minor": 5
}
