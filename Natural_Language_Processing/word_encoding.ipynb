{
 "cells": [
  {
   "cell_type": "code",
   "execution_count": 43,
   "id": "8ed3c100-618b-453b-a25f-49e444e6398b",
   "metadata": {},
   "outputs": [],
   "source": [
    "import tensorflow as tf \n",
    "from tensorflow import keras \n",
    "from tensorflow.keras.preprocessing.text import Tokenizer           # creates vectors out of sentences\n",
    "from tensorflow.keras.preprocessing.sequence import pad_sequences   # adds padding to sequences to make them uniform"
   ]
  },
  {
   "cell_type": "code",
   "execution_count": 44,
   "id": "c973da5d-87f0-48ba-bb25-fefd0d4820a5",
   "metadata": {},
   "outputs": [],
   "source": [
    "sentences = [\n",
    "    'I love my dog',\n",
    "    'I love my cat',\n",
    "    'You love my dog!',\n",
    "    'Do you think my dog is amazing?'\n",
    "]"
   ]
  },
  {
   "cell_type": "code",
   "execution_count": 45,
   "id": "b3b00d63-71fd-47a6-9a21-20272cdafe92",
   "metadata": {},
   "outputs": [
    {
     "name": "stdout",
     "output_type": "stream",
     "text": [
      "{'<OOV>': 1, 'my': 2, 'love': 3, 'dog': 4, 'i': 5, 'you': 6, 'cat': 7, 'do': 8, 'think': 9, 'is': 10, 'amazing': 11}\n"
     ]
    }
   ],
   "source": [
    "# creates instance of tokenizer \n",
    "# num_words takes top 100 words by volume and only encodes those (only affects sequences, not word_index)\n",
    "# might lightly affect accuracy but will hugely affect train time\n",
    "# oov_token defines what to be used for words that aren't in the trained word_index \n",
    "# want to make oov_token something unique that will not be confused with real word\n",
    "tokenizer = Tokenizer(num_words=100, oov_token='<OOV>')\n",
    "\n",
    "# takes in data and encodes\n",
    "tokenizer.fit_on_texts(sentences)\n",
    "\n",
    "# word_index returns diction where key is word and value is token for the word\n",
    "# auto converts to lowercase and strips out punctuation\n",
    "word_index = tokenizer.word_index\n",
    "print(word_index)"
   ]
  },
  {
   "cell_type": "code",
   "execution_count": 46,
   "id": "4eba50c9-4ee0-4d98-9340-f055d1546828",
   "metadata": {},
   "outputs": [
    {
     "name": "stdout",
     "output_type": "stream",
     "text": [
      "[[5, 3, 2, 4], [5, 3, 2, 7], [6, 3, 2, 4], [8, 6, 9, 2, 4, 10, 11]]\n"
     ]
    }
   ],
   "source": [
    "# uses tokens to turn sentences into lists of tokens\n",
    "# texts_to_sequences can take ANY sentence and encode them using tokens learned using fit_on_texts()\n",
    "sequences = tokenizer.texts_to_sequences(sentences)\n",
    "print(sequences)"
   ]
  },
  {
   "cell_type": "code",
   "execution_count": 50,
   "id": "d27d1361-be38-4e54-874d-d9085d93cfbf",
   "metadata": {},
   "outputs": [
    {
     "name": "stdout",
     "output_type": "stream",
     "text": [
      "[[5 3 2 4 0]\n",
      " [5 3 2 7 0]\n",
      " [6 3 2 4 0]\n",
      " [8 6 9 2 4]]\n"
     ]
    }
   ],
   "source": [
    "# pass sequences to fill in values so that it can create a matrix of equal row length \n",
    "# will put a number of 0s before the sentences to fit max length \n",
    "\n",
    "# padded = pad_sequences(sequences)\n",
    "\n",
    "# can also put 0s after the sentence with pad_sequences(sequences, padding='post')\n",
    "# padded = pad_sequences(sequences, padding='post')\n",
    "\n",
    "# can override the max length of sentences with maxlen\n",
    "# note that this will remove data from the beginning of sentences that go over the maxlen\n",
    "# padded = pad_sequences(sequences, padding='post', maxlen=5)\n",
    "\n",
    "# you can override to remove extra data from the end of sentence rather than beginning\n",
    "padded = pad_sequences(sequences, padding='post', truncating='post', maxlen=5)\n",
    "\n",
    "print(padded)"
   ]
  },
  {
   "cell_type": "code",
   "execution_count": 51,
   "id": "613d4af0-b298-4bcd-99c3-a51506b5015e",
   "metadata": {},
   "outputs": [
    {
     "name": "stdout",
     "output_type": "stream",
     "text": [
      "[[5, 1, 3, 2, 4], [2, 4, 1, 2, 1]]\n"
     ]
    }
   ],
   "source": [
    "# need to encode any test data using the same word index\n",
    "# notice that the output has words missing because they arent a part of the word_index created in training\n",
    "test_data = [\n",
    "    'i really love my dog',\n",
    "    'my dog loves my manatee'\n",
    "]\n",
    "\n",
    "test_seq = tokenizer.texts_to_sequences(test_data)\n",
    "print(test_seq)"
   ]
  },
  {
   "cell_type": "code",
   "execution_count": null,
   "id": "c67dd267-36a7-445e-9f66-cbfcf1d1649b",
   "metadata": {},
   "outputs": [],
   "source": []
  },
  {
   "cell_type": "code",
   "execution_count": null,
   "id": "912d7ce3-bb74-4c3b-bc32-400c22398644",
   "metadata": {},
   "outputs": [],
   "source": []
  }
 ],
 "metadata": {
  "kernelspec": {
   "display_name": "Python 3 (ipykernel)",
   "language": "python",
   "name": "python3"
  },
  "language_info": {
   "codemirror_mode": {
    "name": "ipython",
    "version": 3
   },
   "file_extension": ".py",
   "mimetype": "text/x-python",
   "name": "python",
   "nbconvert_exporter": "python",
   "pygments_lexer": "ipython3",
   "version": "3.10.8"
  }
 },
 "nbformat": 4,
 "nbformat_minor": 5
}
