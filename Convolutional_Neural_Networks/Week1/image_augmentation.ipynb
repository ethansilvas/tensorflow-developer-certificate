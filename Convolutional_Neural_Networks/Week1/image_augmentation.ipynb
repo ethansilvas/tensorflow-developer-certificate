{
 "cells": [
  {
   "cell_type": "code",
   "execution_count": 10,
   "id": "88d38c25-3f9b-46e8-a941-570fb8504f54",
   "metadata": {},
   "outputs": [],
   "source": [
    "import tensorflow as tf\n",
    "from tensorflow.keras.datasets import fashion_mnist\n",
    "from tensorflow.keras.preprocessing.image import ImageDataGenerator"
   ]
  },
  {
   "cell_type": "code",
   "execution_count": 8,
   "id": "cdfb37b7-6506-4a7e-8486-5f7312ceca0e",
   "metadata": {},
   "outputs": [],
   "source": [
    "(training_images, training_labels), (test_images, test_labels) = fashion_mnist.load_data()"
   ]
  },
  {
   "cell_type": "markdown",
   "id": "b9dc24f6-5f14-4272-a8af-93d339091ba6",
   "metadata": {},
   "source": [
    "ImageDataGenerator constructor gives you image augmentation options as arguments "
   ]
  },
  {
   "cell_type": "code",
   "execution_count": 12,
   "id": "855c0f22-9255-4d34-9104-cdb0425085be",
   "metadata": {},
   "outputs": [],
   "source": [
    "train_datagen = ImageDataGenerator(\n",
    "    rescale=1/255,\n",
    "    rotation_range=40,          # range from 0-180 to randomly rotate images\n",
    "    width_shift_range=0.2,      # shift image around in its frame, helps with avoiding overfitting to centered image subjects\n",
    "    height_shift_range=0.2,     # percentage relative to its total image size ex: offset by 20% vertically or horizontally\n",
    "    shear_range=0.2,            # skews image to certain percentage along the x axis \n",
    "    zoom_range=0.2,             # random amount up to 20% of the image\n",
    "    horizontal_flip=True,       # reflects the image to train for specific orientations\n",
    "    fill_mode='nearest'         # fills in any pixels that may have been lost during all of these augmentations\n",
    ")"
   ]
  },
  {
   "cell_type": "code",
   "execution_count": null,
   "id": "5b02a382-6776-4c25-b0ce-bfcd1ba52c5e",
   "metadata": {},
   "outputs": [],
   "source": []
  }
 ],
 "metadata": {
  "kernelspec": {
   "display_name": "Python 3 (ipykernel)",
   "language": "python",
   "name": "python3"
  },
  "language_info": {
   "codemirror_mode": {
    "name": "ipython",
    "version": 3
   },
   "file_extension": ".py",
   "mimetype": "text/x-python",
   "name": "python",
   "nbconvert_exporter": "python",
   "pygments_lexer": "ipython3",
   "version": "3.10.8"
  }
 },
 "nbformat": 4,
 "nbformat_minor": 5
}
