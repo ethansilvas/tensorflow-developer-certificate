{
 "cells": [
  {
   "cell_type": "code",
   "execution_count": 1,
   "id": "c245d011-b66e-4b3e-9a11-bbfc44e8d0a9",
   "metadata": {},
   "outputs": [],
   "source": [
    "import tensorflow as tf\n",
    "from tensorflow.keras.preprocessing.image import ImageDataGenerator"
   ]
  },
  {
   "cell_type": "code",
   "execution_count": null,
   "id": "d0f8821b-4180-4076-9651-9157dc05fbea",
   "metadata": {},
   "outputs": [],
   "source": [
    "# pass rescale to normalize data \n",
    "train_datagen = ImageDataGenerator(rescale=1./255)\n",
    "\n",
    "# always point to main directory and not subdirectories\n",
    "train_generator = train_datagen.flow_from_directory(\n",
    "    train_dir,\n",
    "    target_size=(300, 300),    # images all need to be the same size to train\n",
    "    batch_size=128,\n",
    "    class_mode='binary'\n",
    ")"
   ]
  },
  {
   "cell_type": "code",
   "execution_count": null,
   "id": "1add9f7d-7521-486a-a8a6-18a9797fc062",
   "metadata": {},
   "outputs": [],
   "source": [
    "# pass rescale to normalize data \n",
    "test_datagen = ImageDataGenerator(rescale=1./255)\n",
    "\n",
    "# always point to main directory and not subdirectories\n",
    "val_generator = test_datagen.flow_from_directory(\n",
    "    val_dir,\n",
    "    target_size=(300, 300),    # images all need to be the same size to train\n",
    "    batch_size=128,\n",
    "    class_mode='binary'\n",
    ")"
   ]
  }
 ],
 "metadata": {
  "kernelspec": {
   "display_name": "Python 3 (ipykernel)",
   "language": "python",
   "name": "python3"
  },
  "language_info": {
   "codemirror_mode": {
    "name": "ipython",
    "version": 3
   },
   "file_extension": ".py",
   "mimetype": "text/x-python",
   "name": "python",
   "nbconvert_exporter": "python",
   "pygments_lexer": "ipython3",
   "version": "3.10.8"
  }
 },
 "nbformat": 4,
 "nbformat_minor": 5
}
