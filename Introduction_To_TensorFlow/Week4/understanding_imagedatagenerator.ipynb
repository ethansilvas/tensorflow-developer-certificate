{
 "cells": [
  {
   "cell_type": "code",
   "execution_count": 1,
   "id": "c245d011-b66e-4b3e-9a11-bbfc44e8d0a9",
   "metadata": {},
   "outputs": [],
   "source": [
    "import tensorflow as tf\n",
    "from tensorflow.keras.preprocessing.image import ImageDataGenerator"
   ]
  },
  {
   "cell_type": "code",
   "execution_count": null,
   "id": "d0f8821b-4180-4076-9651-9157dc05fbea",
   "metadata": {},
   "outputs": [],
   "source": [
    "# pass rescale to normalize data \n",
    "train_datagen = ImageDataGenerator(rescale=1./255)\n",
    "\n",
    "# always point to main directory and not subdirectories\n",
    "train_generator = train_datagen.flow_from_directory(\n",
    "    train_dir,\n",
    "    target_size=(300, 300),    # images all need to be the same size to train\n",
    "    batch_size=128,\n",
    "    class_mode='binary'\n",
    ")"
   ]
  },
  {
   "cell_type": "code",
   "execution_count": null,
   "id": "1add9f7d-7521-486a-a8a6-18a9797fc062",
   "metadata": {},
   "outputs": [],
   "source": [
    "# pass rescale to normalize data \n",
    "test_datagen = ImageDataGenerator(rescale=1./255)\n",
    "\n",
    "# always point to main directory and not subdirectories\n",
    "val_generator = test_datagen.flow_from_directory(\n",
    "    val_dir,\n",
    "    target_size=(300, 300),    # images all need to be the same size to train\n",
    "    batch_size=128,\n",
    "    class_mode='binary'\n",
    ")"
   ]
  },
  {
   "cell_type": "code",
   "execution_count": null,
   "id": "f2295c4c-a0c6-4f4d-b06e-cf3c2c5a56ee",
   "metadata": {},
   "outputs": [],
   "source": [
    "model = tf.keras.mode.Sequential([\n",
    "    # convolutions and pooling\n",
    "    tf.keras.layers.Conv2D(16, (3, 3), activation='relu', input_shape=(300, 300, 3)),\n",
    "    tf.keras.layers.MaxPool2D(2, 2),\n",
    "    tf.keras.layers.Conv2D(32, (3, 3), activation='relu'),\n",
    "    tf.keras.layers.MaxPool2D(2, 2),\n",
    "    tf.keras.layers.Conv2D(64, (3, 3), activation='relu'),\n",
    "    tf.keras.layers.MaxPool2D(2, 2),\n",
    "    tf.keras.layers.Flatten(),\n",
    "    tf.keras.layers.Dense(512, activation='relu'),\n",
    "    tf.keras.layers.Dense(1, activation='sigmoid')\n",
    "])"
   ]
  },
  {
   "cell_type": "code",
   "execution_count": null,
   "id": "5fbda1ce-571d-4b59-be34-a9fd2ea791c1",
   "metadata": {},
   "outputs": [],
   "source": [
    "from tensorflow.keras.optimizers import RMSprop\n",
    "\n",
    "model.compile(loss='binary_crossentropy', optimizer=RMSprop(lr=0.001), metrics=['accuracy'])"
   ]
  },
  {
   "cell_type": "code",
   "execution_count": null,
   "id": "e94a7199-b5db-47cc-9836-4e0edd01e426",
   "metadata": {},
   "outputs": [],
   "source": [
    "history = model.fit(\n",
    "    train_generator,     # streams the images from the training directory\n",
    "    steps_per_epoch=8,   # 1024 images in the training directory, we are doing 128 at a time, need 8 batches to load them all\n",
    "    epochs=15,\n",
    "    validation_data=validation_generator,\n",
    "    validation_steps=8,  # 256 images and handle them in batches of 32, so use 8 as well\n",
    "    verbose=2\n",
    ")"
   ]
  },
  {
   "cell_type": "markdown",
   "id": "ea89cd22-a0ef-45de-b067-46e8c10b1066",
   "metadata": {},
   "source": [
    "## Predicting images"
   ]
  },
  {
   "cell_type": "code",
   "execution_count": null,
   "id": "f0465235-c5c1-4997-92f2-2411e3caa0be",
   "metadata": {},
   "outputs": [],
   "source": [
    "import numpy as np\n",
    "from google.colab import files\n",
    "from keras.preprocessing import image\n",
    "\n",
    "uploaded = files.upload()\n",
    "\n",
    "for fn in uploaded.keys():\n",
    "    path = '/content/' + fn\n",
    "    img = image.load_image(path, target_size=(300, 300))\n",
    "    x = image.img_to_array(img)\n",
    "    x = np.expand_dims(x, axis=0)\n",
    "    \n",
    "    images = np.vstack([x])\n",
    "    predictions = model.predict(images, batch_size=10)\n",
    "    print(predictions[0])\n",
    "    if predictions[0] > 0.5:\n",
    "        print(f'{fn} is a human')\n",
    "    else \n",
    "        print(f'{fn} is a horse')"
   ]
  }
 ],
 "metadata": {
  "kernelspec": {
   "display_name": "Python 3 (ipykernel)",
   "language": "python",
   "name": "python3"
  },
  "language_info": {
   "codemirror_mode": {
    "name": "ipython",
    "version": 3
   },
   "file_extension": ".py",
   "mimetype": "text/x-python",
   "name": "python",
   "nbconvert_exporter": "python",
   "pygments_lexer": "ipython3",
   "version": "3.10.8"
  }
 },
 "nbformat": 4,
 "nbformat_minor": 5
}
