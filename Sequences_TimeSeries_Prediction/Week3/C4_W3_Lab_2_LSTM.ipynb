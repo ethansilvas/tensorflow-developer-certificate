{
  "cells": [
    {
      "cell_type": "markdown",
      "metadata": {
        "id": "3zm98WfFYpmw"
      },
      "source": [
        "<a href=\"https://colab.research.google.com/github/https-deeplearning-ai/tensorflow-1-public/blob/main/C4/W3/ungraded_labs/C4_W3_Lab_2_LSTM.ipynb\" target=\"_parent\"><img src=\"https://colab.research.google.com/assets/colab-badge.svg\" alt=\"Open In Colab\"/></a>"
      ]
    },
    {
      "cell_type": "markdown",
      "metadata": {
        "id": "sV_nvXSQGJPK"
      },
      "source": [
        "# Ungraded Lab: Using a multi-layer LSTM for forecasting\n",
        "\n",
        "In this lab, you will use the same RNN architecure in the first lab but will instead stack [LSTM](https://www.tensorflow.org/api_docs/python/tf/keras/layers/LSTM) layers instead of `SimpleRNN`."
      ]
    },
    {
      "cell_type": "markdown",
      "metadata": {
        "id": "3IMbAWETGOWD"
      },
      "source": [
        "## Imports"
      ]
    },
    {
      "cell_type": "code",
      "execution_count": 1,
      "metadata": {
        "id": "BOjujz601HcS"
      },
      "outputs": [],
      "source": [
        "import tensorflow as tf\n",
        "import numpy as np\n",
        "import matplotlib.pyplot as plt"
      ]
    },
    {
      "cell_type": "markdown",
      "metadata": {
        "id": "kD7RQQ0xGQVH"
      },
      "source": [
        "## Utilities"
      ]
    },
    {
      "cell_type": "code",
      "execution_count": 2,
      "metadata": {
        "id": "Zswl7jRtGzkk"
      },
      "outputs": [],
      "source": [
        "def plot_series(time, series, format=\"-\", start=0, end=None):\n",
        "    \"\"\"\n",
        "    Visualizes time series data\n",
        "\n",
        "    Args:\n",
        "      time (array of int) - contains the time steps\n",
        "      series (array of int) - contains the measurements for each time step\n",
        "      format - line style when plotting the graph\n",
        "      start - first time step to plot\n",
        "      end - last time step to plot\n",
        "    \"\"\"\n",
        "\n",
        "    # Setup dimensions of the graph figure\n",
        "    plt.figure(figsize=(10, 6))\n",
        "    \n",
        "    if type(series) is tuple:\n",
        "\n",
        "      for series_num in series:\n",
        "        # Plot the time series data\n",
        "        plt.plot(time[start:end], series_num[start:end], format)\n",
        "\n",
        "    else:\n",
        "      # Plot the time series data\n",
        "      plt.plot(time[start:end], series[start:end], format)\n",
        "\n",
        "    # Label the x-axis\n",
        "    plt.xlabel(\"Time\")\n",
        "\n",
        "    # Label the y-axis\n",
        "    plt.ylabel(\"Value\")\n",
        "\n",
        "    # Overlay a grid on the graph\n",
        "    plt.grid(True)\n",
        "\n",
        "    # Draw the graph on screen\n",
        "    plt.show()\n",
        "\n",
        "def trend(time, slope=0):\n",
        "    \"\"\"\n",
        "    Generates synthetic data that follows a straight line given a slope value.\n",
        "\n",
        "    Args:\n",
        "      time (array of int) - contains the time steps\n",
        "      slope (float) - determines the direction and steepness of the line\n",
        "\n",
        "    Returns:\n",
        "      series (array of float) - measurements that follow a straight line\n",
        "    \"\"\"\n",
        "\n",
        "    # Compute the linear series given the slope\n",
        "    series = slope * time\n",
        "\n",
        "    return series\n",
        "\n",
        "def seasonal_pattern(season_time):\n",
        "    \"\"\"\n",
        "    Just an arbitrary pattern, you can change it if you wish\n",
        "    \n",
        "    Args:\n",
        "      season_time (array of float) - contains the measurements per time step\n",
        "\n",
        "    Returns:\n",
        "      data_pattern (array of float) -  contains revised measurement values according \n",
        "                                  to the defined pattern\n",
        "    \"\"\"\n",
        "\n",
        "    # Generate the values using an arbitrary pattern\n",
        "    data_pattern = np.where(season_time < 0.4,\n",
        "                    np.cos(season_time * 2 * np.pi),\n",
        "                    1 / np.exp(3 * season_time))\n",
        "    \n",
        "    return data_pattern\n",
        "\n",
        "def seasonality(time, period, amplitude=1, phase=0):\n",
        "    \"\"\"\n",
        "    Repeats the same pattern at each period\n",
        "\n",
        "    Args:\n",
        "      time (array of int) - contains the time steps\n",
        "      period (int) - number of time steps before the pattern repeats\n",
        "      amplitude (int) - peak measured value in a period\n",
        "      phase (int) - number of time steps to shift the measured values\n",
        "\n",
        "    Returns:\n",
        "      data_pattern (array of float) - seasonal data scaled by the defined amplitude\n",
        "    \"\"\"\n",
        "    \n",
        "    # Define the measured values per period\n",
        "    season_time = ((time + phase) % period) / period\n",
        "\n",
        "    # Generates the seasonal data scaled by the defined amplitude\n",
        "    data_pattern = amplitude * seasonal_pattern(season_time)\n",
        "\n",
        "    return data_pattern\n",
        "\n",
        "def noise(time, noise_level=1, seed=None):\n",
        "    \"\"\"Generates a normally distributed noisy signal\n",
        "\n",
        "    Args:\n",
        "      time (array of int) - contains the time steps\n",
        "      noise_level (float) - scaling factor for the generated signal\n",
        "      seed (int) - number generator seed for repeatability\n",
        "\n",
        "    Returns:\n",
        "      noise (array of float) - the noisy signal\n",
        "    \"\"\"\n",
        "\n",
        "    # Initialize the random number generator\n",
        "    rnd = np.random.RandomState(seed)\n",
        "\n",
        "    # Generate a random number for each time step and scale by the noise level\n",
        "    noise = rnd.randn(len(time)) * noise_level\n",
        "    \n",
        "    return noise"
      ]
    },
    {
      "cell_type": "markdown",
      "metadata": {
        "id": "yxNyeFWjGSdj"
      },
      "source": [
        "## Generate the Synthetic Data"
      ]
    },
    {
      "cell_type": "code",
      "execution_count": 3,
      "metadata": {
        "id": "KYEUfDbdpHPm",
        "colab": {
          "base_uri": "https://localhost:8080/",
          "height": 542
        },
        "outputId": "e6bb8874-7050-4e20-f8a9-c54754bbbd10"
      },
      "outputs": [
        {
          "output_type": "display_data",
          "data": {
            "text/plain": [
              "<Figure size 1000x600 with 1 Axes>"
            ],
            "image/png": "[encoded data removed]"
          },
          "metadata": {}
        }
      ],
      "source": [
        "# Parameters\n",
        "time = np.arange(4 * 365 + 1, dtype=\"float32\")\n",
        "baseline = 10\n",
        "amplitude = 40\n",
        "slope = 0.05\n",
        "noise_level = 5\n",
        "\n",
        "# Create the series\n",
        "series = baseline + trend(time, slope) + seasonality(time, period=365, amplitude=amplitude)\n",
        "\n",
        "# Update with noise\n",
        "series += noise(time, noise_level, seed=42)\n",
        "\n",
        "# Plot the results\n",
        "plot_series(time, series)"
      ]
    },
    {
      "cell_type": "markdown",
      "metadata": {
        "id": "MYKCvv-eGWRc"
      },
      "source": [
        "## Split the Dataset"
      ]
    },
    {
      "cell_type": "code",
      "execution_count": 4,
      "metadata": {
        "id": "hpp0slenpKVD"
      },
      "outputs": [],
      "source": [
        "# Define the split time\n",
        "split_time = 1000\n",
        "\n",
        "# Get the train set \n",
        "time_train = time[:split_time]\n",
        "x_train = series[:split_time]\n",
        "\n",
        "# Get the validation set\n",
        "time_valid = time[split_time:]\n",
        "x_valid = series[split_time:]"
      ]
    },
    {
      "cell_type": "markdown",
      "metadata": {
        "id": "cktHz9aOGYtV"
      },
      "source": [
        "## Prepare Features and Labels"
      ]
    },
    {
      "cell_type": "code",
      "execution_count": 5,
      "metadata": {
        "id": "G_j_2_Mqwn7-"
      },
      "outputs": [],
      "source": [
        "# Parameters\n",
        "window_size = 20\n",
        "batch_size = 32\n",
        "shuffle_buffer_size = 1000"
      ]
    },
    {
      "cell_type": "code",
      "execution_count": 6,
      "metadata": {
        "id": "4sTTIOCbyShY"
      },
      "outputs": [],
      "source": [
        "def windowed_dataset(series, window_size, batch_size, shuffle_buffer):\n",
        "    \"\"\"Generates dataset windows\n",
        "\n",
        "    Args:\n",
        "      series (array of float) - contains the values of the time series\n",
        "      window_size (int) - the number of time steps to include in the feature\n",
        "      batch_size (int) - the batch size\n",
        "      shuffle_buffer(int) - buffer size to use for the shuffle method\n",
        "\n",
        "    Returns:\n",
        "      dataset (TF Dataset) - TF Dataset containing time windows\n",
        "    \"\"\"\n",
        "  \n",
        "    # Generate a TF Dataset from the series values\n",
        "    dataset = tf.data.Dataset.from_tensor_slices(series)\n",
        "    \n",
        "    # Window the data but only take those with the specified size\n",
        "    dataset = dataset.window(window_size + 1, shift=1, drop_remainder=True)\n",
        "    \n",
        "    # Flatten the windows by putting its elements in a single batch\n",
        "    dataset = dataset.flat_map(lambda window: window.batch(window_size + 1))\n",
        "\n",
        "    # Create tuples with features and labels \n",
        "    dataset = dataset.map(lambda window: (window[:-1], window[-1]))\n",
        "\n",
        "    # Shuffle the windows\n",
        "    dataset = dataset.shuffle(shuffle_buffer)\n",
        "    \n",
        "    # Create batches of windows\n",
        "    dataset = dataset.batch(batch_size).prefetch(1)\n",
        "    \n",
        "    return dataset"
      ]
    },
    {
      "cell_type": "code",
      "execution_count": 7,
      "metadata": {
        "id": "vGj5-InSwtQQ"
      },
      "outputs": [],
      "source": [
        "# Generate the dataset windows\n",
        "dataset = windowed_dataset(x_train, window_size, batch_size, shuffle_buffer_size)"
      ]
    },
    {
      "cell_type": "markdown",
      "metadata": {
        "id": "p9-Ke8ZaGcjd"
      },
      "source": [
        "## Build the Model\n",
        "\n",
        "As mentioned, you will swap `SimpleRNN` for `LSTM` in this lab. It is also set as bidirectional below but feel free to revise later and see what results you get. LSTMs are much more complex in their internal architecture than simpleRNNs. It implements a cell state that allows it to remember sequences better than simple implementations. This added complexity results in a bigger set of parameters to train and you'll see that when you print the model summary below."
      ]
    },
    {
      "cell_type": "code",
      "execution_count": 8,
      "metadata": {
        "id": "A1Hl39rklkLm",
        "colab": {
          "base_uri": "https://localhost:8080/"
        },
        "outputId": "4c2f6db0-d09f-49ba-8baa-ec73a97862f8"
      },
      "outputs": [
        {
          "output_type": "stream",
          "name": "stdout",
          "text": [
            "Model: \"sequential\"\n",
            "_________________________________________________________________\n",
            " Layer (type)                Output Shape              Param #   \n",
            "=================================================================\n",
            " lambda (Lambda)             (None, 20, 1)             0         \n",
            "                                                                 \n",
            " bidirectional (Bidirectiona  (None, 20, 64)           8704      \n",
            " l)                                                              \n",
            "                                                                 \n",
            " bidirectional_1 (Bidirectio  (None, 64)               24832     \n",
            " nal)                                                            \n",
            "                                                                 \n",
            " dense (Dense)               (None, 1)                 65        \n",
            "                                                                 \n",
            " lambda_1 (Lambda)           (None, 1)                 0         \n",
            "                                                                 \n",
            "=================================================================\n",
            "Total params: 33,601\n",
            "Trainable params: 33,601\n",
            "Non-trainable params: 0\n",
            "_________________________________________________________________\n"
          ]
        }
      ],
      "source": [
        "# Build the Model\n",
        "model_tune = tf.keras.models.Sequential([\n",
        "  tf.keras.layers.Lambda(lambda x: tf.expand_dims(x, axis=-1),\n",
        "                      input_shape=[window_size]),\n",
        "    tf.keras.layers.Bidirectional(tf.keras.layers.LSTM(32, return_sequences=True)),\n",
        "  tf.keras.layers.Bidirectional(tf.keras.layers.LSTM(32)),\n",
        "  tf.keras.layers.Dense(1),\n",
        "  tf.keras.layers.Lambda(lambda x: x * 100.0)\n",
        "])\n",
        "\n",
        "# Print the model summary\n",
        "model_tune.summary()"
      ]
    },
    {
      "cell_type": "markdown",
      "metadata": {
        "id": "FHaFblbwq0GV"
      },
      "source": [
        "## Tune the Learning Rate\n",
        "\n",
        "As usual, you will pick a learning rate by running the tuning code below."
      ]
    },
    {
      "cell_type": "code",
      "execution_count": 9,
      "metadata": {
        "id": "qE7al18qw48G",
        "colab": {
          "base_uri": "https://localhost:8080/"
        },
        "outputId": "6cb096cf-8ca2-4096-b442-fae9fd8f0291"
      },
      "outputs": [
        {
          "output_type": "stream",
          "name": "stdout",
          "text": [
            "Epoch 1/100\n",
            "31/31 [==============================] - 18s 24ms/step - loss: 18.2947 - lr: 1.0000e-08\n",
            "Epoch 2/100\n",
            "31/31 [==============================] - 0s 9ms/step - loss: 18.1778 - lr: 1.1220e-08\n",
            "Epoch 3/100\n",
            "31/31 [==============================] - 0s 9ms/step - loss: 18.0401 - lr: 1.2589e-08\n",
            "Epoch 4/100\n",
            "31/31 [==============================] - 0s 9ms/step - loss: 17.8977 - lr: 1.4125e-08\n",
            "Epoch 5/100\n",
            "31/31 [==============================] - 0s 9ms/step - loss: 17.7454 - lr: 1.5849e-08\n",
            "Epoch 6/100\n",
            "31/31 [==============================] - 0s 9ms/step - loss: 17.5884 - lr: 1.7783e-08\n",
            "Epoch 7/100\n",
            "31/31 [==============================] - 0s 9ms/step - loss: 17.4256 - lr: 1.9953e-08\n",
            "Epoch 8/100\n",
            "31/31 [==============================] - 0s 9ms/step - loss: 17.2557 - lr: 2.2387e-08\n",
            "Epoch 9/100\n",
            "31/31 [==============================] - 0s 10ms/step - loss: 17.0821 - lr: 2.5119e-08\n",
            "Epoch 10/100\n",
            "31/31 [==============================] - 0s 9ms/step - loss: 16.9027 - lr: 2.8184e-08\n",
            "Epoch 11/100\n",
            "31/31 [==============================] - 0s 9ms/step - loss: 16.7215 - lr: 3.1623e-08\n",
            "Epoch 12/100\n",
            "31/31 [==============================] - 0s 9ms/step - loss: 16.5435 - lr: 3.5481e-08\n",
            "Epoch 13/100\n",
            "31/31 [==============================] - 0s 10ms/step - loss: 16.3638 - lr: 3.9811e-08\n",
            "Epoch 14/100\n",
            "31/31 [==============================] - 0s 9ms/step - loss: 16.1875 - lr: 4.4668e-08\n",
            "Epoch 15/100\n",
            "31/31 [==============================] - 0s 9ms/step - loss: 16.0070 - lr: 5.0119e-08\n",
            "Epoch 16/100\n",
            "31/31 [==============================] - 0s 9ms/step - loss: 15.8212 - lr: 5.6234e-08\n",
            "Epoch 17/100\n",
            "31/31 [==============================] - 0s 10ms/step - loss: 15.6198 - lr: 6.3096e-08\n",
            "Epoch 18/100\n",
            "31/31 [==============================] - 1s 13ms/step - loss: 15.4066 - lr: 7.0795e-08\n",
            "Epoch 19/100\n",
            "31/31 [==============================] - 1s 14ms/step - loss: 15.1677 - lr: 7.9433e-08\n",
            "Epoch 20/100\n",
            "31/31 [==============================] - 0s 9ms/step - loss: 14.9085 - lr: 8.9125e-08\n",
            "Epoch 21/100\n",
            "31/31 [==============================] - 0s 9ms/step - loss: 14.6253 - lr: 1.0000e-07\n",
            "Epoch 22/100\n",
            "31/31 [==============================] - 0s 10ms/step - loss: 14.3115 - lr: 1.1220e-07\n",
            "Epoch 23/100\n",
            "31/31 [==============================] - 0s 10ms/step - loss: 13.9535 - lr: 1.2589e-07\n",
            "Epoch 24/100\n",
            "31/31 [==============================] - 0s 9ms/step - loss: 13.5607 - lr: 1.4125e-07\n",
            "Epoch 25/100\n",
            "31/31 [==============================] - 0s 10ms/step - loss: 13.1118 - lr: 1.5849e-07\n",
            "Epoch 26/100\n",
            "31/31 [==============================] - 0s 10ms/step - loss: 12.6270 - lr: 1.7783e-07\n",
            "Epoch 27/100\n",
            "31/31 [==============================] - 0s 9ms/step - loss: 12.0666 - lr: 1.9953e-07\n",
            "Epoch 28/100\n",
            "31/31 [==============================] - 0s 10ms/step - loss: 11.4320 - lr: 2.2387e-07\n",
            "Epoch 29/100\n",
            "31/31 [==============================] - 0s 10ms/step - loss: 10.7800 - lr: 2.5119e-07\n",
            "Epoch 30/100\n",
            "31/31 [==============================] - 0s 9ms/step - loss: 10.1041 - lr: 2.8184e-07\n",
            "Epoch 31/100\n",
            "31/31 [==============================] - 0s 11ms/step - loss: 9.4159 - lr: 3.1623e-07\n",
            "Epoch 32/100\n",
            "31/31 [==============================] - 0s 10ms/step - loss: 8.7513 - lr: 3.5481e-07\n",
            "Epoch 33/100\n",
            "31/31 [==============================] - 0s 10ms/step - loss: 8.1152 - lr: 3.9811e-07\n",
            "Epoch 34/100\n",
            "31/31 [==============================] - 0s 10ms/step - loss: 7.5601 - lr: 4.4668e-07\n",
            "Epoch 35/100\n",
            "31/31 [==============================] - 0s 9ms/step - loss: 7.0145 - lr: 5.0119e-07\n",
            "Epoch 36/100\n",
            "31/31 [==============================] - 0s 10ms/step - loss: 6.5998 - lr: 5.6234e-07\n",
            "Epoch 37/100\n",
            "31/31 [==============================] - 0s 9ms/step - loss: 6.2865 - lr: 6.3096e-07\n",
            "Epoch 38/100\n",
            "31/31 [==============================] - 0s 10ms/step - loss: 6.0487 - lr: 7.0795e-07\n",
            "Epoch 39/100\n",
            "31/31 [==============================] - 0s 10ms/step - loss: 5.9069 - lr: 7.9433e-07\n",
            "Epoch 40/100\n",
            "31/31 [==============================] - 0s 10ms/step - loss: 5.7875 - lr: 8.9125e-07\n",
            "Epoch 41/100\n",
            "31/31 [==============================] - 0s 10ms/step - loss: 5.6825 - lr: 1.0000e-06\n",
            "Epoch 42/100\n",
            "31/31 [==============================] - 1s 15ms/step - loss: 5.6196 - lr: 1.1220e-06\n",
            "Epoch 43/100\n",
            "31/31 [==============================] - 1s 16ms/step - loss: 5.5285 - lr: 1.2589e-06\n",
            "Epoch 44/100\n",
            "31/31 [==============================] - 1s 14ms/step - loss: 5.4779 - lr: 1.4125e-06\n",
            "Epoch 45/100\n",
            "31/31 [==============================] - 1s 14ms/step - loss: 5.4333 - lr: 1.5849e-06\n",
            "Epoch 46/100\n",
            "31/31 [==============================] - 0s 9ms/step - loss: 5.3295 - lr: 1.7783e-06\n",
            "Epoch 47/100\n",
            "31/31 [==============================] - 0s 11ms/step - loss: 5.2400 - lr: 1.9953e-06\n",
            "Epoch 48/100\n",
            "31/31 [==============================] - 0s 9ms/step - loss: 5.3163 - lr: 2.2387e-06\n",
            "Epoch 49/100\n",
            "31/31 [==============================] - 0s 9ms/step - loss: 5.1645 - lr: 2.5119e-06\n",
            "Epoch 50/100\n",
            "31/31 [==============================] - 0s 10ms/step - loss: 5.1377 - lr: 2.8184e-06\n",
            "Epoch 51/100\n",
            "31/31 [==============================] - 0s 10ms/step - loss: 5.0157 - lr: 3.1623e-06\n",
            "Epoch 52/100\n",
            "31/31 [==============================] - 0s 9ms/step - loss: 5.1235 - lr: 3.5481e-06\n",
            "Epoch 53/100\n",
            "31/31 [==============================] - 0s 9ms/step - loss: 4.9348 - lr: 3.9811e-06\n",
            "Epoch 54/100\n",
            "31/31 [==============================] - 0s 10ms/step - loss: 4.8508 - lr: 4.4668e-06\n",
            "Epoch 55/100\n",
            "31/31 [==============================] - 0s 9ms/step - loss: 4.8830 - lr: 5.0119e-06\n",
            "Epoch 56/100\n",
            "31/31 [==============================] - 0s 9ms/step - loss: 4.8701 - lr: 5.6234e-06\n",
            "Epoch 57/100\n",
            "31/31 [==============================] - 0s 9ms/step - loss: 4.9254 - lr: 6.3096e-06\n",
            "Epoch 58/100\n",
            "31/31 [==============================] - 0s 10ms/step - loss: 4.7216 - lr: 7.0795e-06\n",
            "Epoch 59/100\n",
            "31/31 [==============================] - 0s 10ms/step - loss: 4.7609 - lr: 7.9433e-06\n",
            "Epoch 60/100\n",
            "31/31 [==============================] - 0s 9ms/step - loss: 4.8390 - lr: 8.9125e-06\n",
            "Epoch 61/100\n",
            "31/31 [==============================] - 0s 9ms/step - loss: 5.3875 - lr: 1.0000e-05\n",
            "Epoch 62/100\n",
            "31/31 [==============================] - 0s 10ms/step - loss: 4.8905 - lr: 1.1220e-05\n",
            "Epoch 63/100\n",
            "31/31 [==============================] - 0s 9ms/step - loss: 5.1097 - lr: 1.2589e-05\n",
            "Epoch 64/100\n",
            "31/31 [==============================] - 0s 10ms/step - loss: 4.7821 - lr: 1.4125e-05\n",
            "Epoch 65/100\n",
            "31/31 [==============================] - 0s 9ms/step - loss: 4.8792 - lr: 1.5849e-05\n",
            "Epoch 66/100\n",
            "31/31 [==============================] - 0s 10ms/step - loss: 4.7508 - lr: 1.7783e-05\n",
            "Epoch 67/100\n",
            "31/31 [==============================] - 0s 10ms/step - loss: 5.3406 - lr: 1.9953e-05\n",
            "Epoch 68/100\n",
            "31/31 [==============================] - 0s 11ms/step - loss: 4.9504 - lr: 2.2387e-05\n",
            "Epoch 69/100\n",
            "31/31 [==============================] - 1s 14ms/step - loss: 4.9379 - lr: 2.5119e-05\n",
            "Epoch 70/100\n",
            "31/31 [==============================] - 1s 13ms/step - loss: 5.7768 - lr: 2.8184e-05\n",
            "Epoch 71/100\n",
            "31/31 [==============================] - 0s 10ms/step - loss: 5.2299 - lr: 3.1623e-05\n",
            "Epoch 72/100\n",
            "31/31 [==============================] - 0s 9ms/step - loss: 4.9350 - lr: 3.5481e-05\n",
            "Epoch 73/100\n",
            "31/31 [==============================] - 0s 10ms/step - loss: 5.4008 - lr: 3.9811e-05\n",
            "Epoch 74/100\n",
            "31/31 [==============================] - 0s 9ms/step - loss: 5.2348 - lr: 4.4668e-05\n",
            "Epoch 75/100\n",
            "31/31 [==============================] - 0s 10ms/step - loss: 5.2641 - lr: 5.0119e-05\n",
            "Epoch 76/100\n",
            "31/31 [==============================] - 0s 9ms/step - loss: 5.5484 - lr: 5.6234e-05\n",
            "Epoch 77/100\n",
            "31/31 [==============================] - 0s 10ms/step - loss: 5.1426 - lr: 6.3096e-05\n",
            "Epoch 78/100\n",
            "31/31 [==============================] - 0s 10ms/step - loss: 8.9888 - lr: 7.0795e-05\n",
            "Epoch 79/100\n",
            "31/31 [==============================] - 0s 10ms/step - loss: 6.0880 - lr: 7.9433e-05\n",
            "Epoch 80/100\n",
            "31/31 [==============================] - 0s 9ms/step - loss: 6.4224 - lr: 8.9125e-05\n",
            "Epoch 81/100\n",
            "31/31 [==============================] - 0s 9ms/step - loss: 6.0225 - lr: 1.0000e-04\n",
            "Epoch 82/100\n",
            "31/31 [==============================] - 0s 9ms/step - loss: 7.0539 - lr: 1.1220e-04\n",
            "Epoch 83/100\n",
            "31/31 [==============================] - 0s 10ms/step - loss: 5.7048 - lr: 1.2589e-04\n",
            "Epoch 84/100\n",
            "31/31 [==============================] - 0s 9ms/step - loss: 5.9218 - lr: 1.4125e-04\n",
            "Epoch 85/100\n",
            "31/31 [==============================] - 0s 9ms/step - loss: 6.1913 - lr: 1.5849e-04\n",
            "Epoch 86/100\n",
            "31/31 [==============================] - 0s 9ms/step - loss: 7.1212 - lr: 1.7783e-04\n",
            "Epoch 87/100\n",
            "31/31 [==============================] - 0s 9ms/step - loss: 6.0641 - lr: 1.9953e-04\n",
            "Epoch 88/100\n",
            "31/31 [==============================] - 0s 9ms/step - loss: 9.4378 - lr: 2.2387e-04\n",
            "Epoch 89/100\n",
            "31/31 [==============================] - 0s 10ms/step - loss: 7.6035 - lr: 2.5119e-04\n",
            "Epoch 90/100\n",
            "31/31 [==============================] - 0s 9ms/step - loss: 9.7013 - lr: 2.8184e-04\n",
            "Epoch 91/100\n",
            "31/31 [==============================] - 0s 9ms/step - loss: 6.6209 - lr: 3.1623e-04\n",
            "Epoch 92/100\n",
            "31/31 [==============================] - 0s 10ms/step - loss: 6.9135 - lr: 3.5481e-04\n",
            "Epoch 93/100\n",
            "31/31 [==============================] - 0s 11ms/step - loss: 7.1470 - lr: 3.9811e-04\n",
            "Epoch 94/100\n",
            "31/31 [==============================] - 1s 15ms/step - loss: 10.6427 - lr: 4.4668e-04\n",
            "Epoch 95/100\n",
            "31/31 [==============================] - 1s 13ms/step - loss: 9.2965 - lr: 5.0119e-04\n",
            "Epoch 96/100\n",
            "31/31 [==============================] - 1s 14ms/step - loss: 11.6203 - lr: 5.6234e-04\n",
            "Epoch 97/100\n",
            "31/31 [==============================] - 0s 9ms/step - loss: 11.3954 - lr: 6.3096e-04\n",
            "Epoch 98/100\n",
            "31/31 [==============================] - 0s 10ms/step - loss: 10.9619 - lr: 7.0795e-04\n",
            "Epoch 99/100\n",
            "31/31 [==============================] - 0s 9ms/step - loss: 11.9089 - lr: 7.9433e-04\n",
            "Epoch 100/100\n",
            "31/31 [==============================] - 0s 9ms/step - loss: 12.0469 - lr: 8.9125e-04\n"
          ]
        }
      ],
      "source": [
        "# Set the learning rate scheduler\n",
        "lr_schedule = tf.keras.callbacks.LearningRateScheduler(\n",
        "    lambda epoch: 1e-8 * 10**(epoch / 20))\n",
        "\n",
        "# Initialize the optimizer\n",
        "optimizer = tf.keras.optimizers.SGD(momentum=0.9)\n",
        "\n",
        "# Set the training parameters\n",
        "model_tune.compile(loss=tf.keras.losses.Huber(), optimizer=optimizer)\n",
        "\n",
        "# Train the model\n",
        "history = model_tune.fit(dataset, epochs=100, callbacks=[lr_schedule])"
      ]
    },
    {
      "cell_type": "code",
      "execution_count": 10,
      "metadata": {
        "id": "AkBsrsXMzoWR",
        "colab": {
          "base_uri": "https://localhost:8080/",
          "height": 559
        },
        "outputId": "6c34c94d-e264-4b09-ee18-9ac5a1cf9265"
      },
      "outputs": [
        {
          "output_type": "execute_result",
          "data": {
            "text/plain": [
              "(1e-08, 0.001, 0.0, 30.0)"
            ]
          },
          "metadata": {},
          "execution_count": 10
        },
        {
          "output_type": "display_data",
          "data": {
            "text/plain": [
              "<Figure size 1000x600 with 1 Axes>"
            ],
            "image/png": "[encoded data removed]"
          },
          "metadata": {}
        }
      ],
      "source": [
        "# Define the learning rate array\n",
        "lrs = 1e-8 * (10 ** (np.arange(100) / 20))\n",
        "\n",
        "# Set the figure size\n",
        "plt.figure(figsize=(10, 6))\n",
        "\n",
        "# Set the grid\n",
        "plt.grid(True)\n",
        "\n",
        "# Plot the loss in log scale\n",
        "plt.semilogx(lrs, history.history[\"loss\"])\n",
        "\n",
        "# Increase the tickmarks size\n",
        "plt.tick_params('both', length=10, width=1, which='both')\n",
        "\n",
        "# Set the plot boundaries\n",
        "plt.axis([1e-8, 1e-3, 0, 30])"
      ]
    },
    {
      "cell_type": "markdown",
      "metadata": {
        "id": "i-lKNp4pq_w8"
      },
      "source": [
        "## Train the Model\n",
        "\n",
        "You can then proceed to train the model with your chosen learning rate. \n",
        "\n",
        "*Tip: When experimenting and you find yourself running different iterations of a model, you may want to use the [`clear_session()`](https://www.tensorflow.org/api_docs/python/tf/keras/backend/clear_session) method to declutter memory used by Keras. This is added in the first line below.*\n"
      ]
    },
    {
      "cell_type": "code",
      "execution_count": 11,
      "metadata": {
        "id": "4uh-97bpLZCA",
        "colab": {
          "base_uri": "https://localhost:8080/"
        },
        "outputId": "b54637e7-e540-47e2-8972-13cc88fbda4f"
      },
      "outputs": [
        {
          "output_type": "stream",
          "name": "stdout",
          "text": [
            "Epoch 1/100\n",
            "31/31 [==============================] - 9s 13ms/step - loss: 15.6097 - mae: 16.1037\n",
            "Epoch 2/100\n",
            "31/31 [==============================] - 0s 9ms/step - loss: 11.2994 - mae: 11.7881\n",
            "Epoch 3/100\n",
            "31/31 [==============================] - 0s 9ms/step - loss: 9.3160 - mae: 9.8027\n",
            "Epoch 4/100\n",
            "31/31 [==============================] - 0s 9ms/step - loss: 8.3971 - mae: 8.8802\n",
            "Epoch 5/100\n",
            "31/31 [==============================] - 0s 9ms/step - loss: 8.0472 - mae: 8.5292\n",
            "Epoch 6/100\n",
            "31/31 [==============================] - 0s 10ms/step - loss: 7.7688 - mae: 8.2549\n",
            "Epoch 7/100\n",
            "31/31 [==============================] - 0s 9ms/step - loss: 7.5563 - mae: 8.0403\n",
            "Epoch 8/100\n",
            "31/31 [==============================] - 0s 9ms/step - loss: 7.3651 - mae: 7.8459\n",
            "Epoch 9/100\n",
            "31/31 [==============================] - 0s 9ms/step - loss: 7.1963 - mae: 7.6763\n",
            "Epoch 10/100\n",
            "31/31 [==============================] - 0s 9ms/step - loss: 7.0673 - mae: 7.5477\n",
            "Epoch 11/100\n",
            "31/31 [==============================] - 0s 9ms/step - loss: 6.9694 - mae: 7.4511\n",
            "Epoch 12/100\n",
            "31/31 [==============================] - 0s 9ms/step - loss: 6.8461 - mae: 7.3217\n",
            "Epoch 13/100\n",
            "31/31 [==============================] - 0s 9ms/step - loss: 6.7782 - mae: 7.2589\n",
            "Epoch 14/100\n",
            "31/31 [==============================] - 0s 12ms/step - loss: 6.7762 - mae: 7.2534\n",
            "Epoch 15/100\n",
            "31/31 [==============================] - 1s 13ms/step - loss: 6.5827 - mae: 7.0616\n",
            "Epoch 16/100\n",
            "31/31 [==============================] - 1s 15ms/step - loss: 6.5395 - mae: 7.0185\n",
            "Epoch 17/100\n",
            "31/31 [==============================] - 1s 16ms/step - loss: 6.4655 - mae: 6.9433\n",
            "Epoch 18/100\n",
            "31/31 [==============================] - 1s 17ms/step - loss: 6.3945 - mae: 6.8736\n",
            "Epoch 19/100\n",
            "31/31 [==============================] - 1s 22ms/step - loss: 6.3237 - mae: 6.8030\n",
            "Epoch 20/100\n",
            "31/31 [==============================] - 1s 23ms/step - loss: 6.2812 - mae: 6.7581\n",
            "Epoch 21/100\n",
            "31/31 [==============================] - 1s 21ms/step - loss: 6.2330 - mae: 6.7119\n",
            "Epoch 22/100\n",
            "31/31 [==============================] - 1s 19ms/step - loss: 6.1457 - mae: 6.6253\n",
            "Epoch 23/100\n",
            "31/31 [==============================] - 1s 22ms/step - loss: 6.0690 - mae: 6.5470\n",
            "Epoch 24/100\n",
            "31/31 [==============================] - 1s 21ms/step - loss: 6.0687 - mae: 6.5477\n",
            "Epoch 25/100\n",
            "31/31 [==============================] - 1s 16ms/step - loss: 5.9937 - mae: 6.4746\n",
            "Epoch 26/100\n",
            "31/31 [==============================] - 1s 19ms/step - loss: 5.9562 - mae: 6.4343\n",
            "Epoch 27/100\n",
            "31/31 [==============================] - 1s 17ms/step - loss: 5.8997 - mae: 6.3807\n",
            "Epoch 28/100\n",
            "31/31 [==============================] - 1s 19ms/step - loss: 5.8081 - mae: 6.2866\n",
            "Epoch 29/100\n",
            "31/31 [==============================] - 1s 20ms/step - loss: 5.7224 - mae: 6.2019\n",
            "Epoch 30/100\n",
            "31/31 [==============================] - 0s 9ms/step - loss: 5.6749 - mae: 6.1530\n",
            "Epoch 31/100\n",
            "31/31 [==============================] - 0s 10ms/step - loss: 5.6244 - mae: 6.1020\n",
            "Epoch 32/100\n",
            "31/31 [==============================] - 0s 9ms/step - loss: 5.6062 - mae: 6.0851\n",
            "Epoch 33/100\n",
            "31/31 [==============================] - 0s 10ms/step - loss: 5.5728 - mae: 6.0493\n",
            "Epoch 34/100\n",
            "31/31 [==============================] - 1s 15ms/step - loss: 5.4914 - mae: 5.9729\n",
            "Epoch 35/100\n",
            "31/31 [==============================] - 1s 15ms/step - loss: 5.5420 - mae: 6.0210\n",
            "Epoch 36/100\n",
            "31/31 [==============================] - 1s 16ms/step - loss: 5.4710 - mae: 5.9496\n",
            "Epoch 37/100\n",
            "31/31 [==============================] - 0s 10ms/step - loss: 5.3889 - mae: 5.8677\n",
            "Epoch 38/100\n",
            "31/31 [==============================] - 0s 10ms/step - loss: 5.3843 - mae: 5.8642\n",
            "Epoch 39/100\n",
            "31/31 [==============================] - 0s 10ms/step - loss: 5.3205 - mae: 5.7993\n",
            "Epoch 40/100\n",
            "31/31 [==============================] - 0s 10ms/step - loss: 5.3023 - mae: 5.7808\n",
            "Epoch 41/100\n",
            "31/31 [==============================] - 0s 9ms/step - loss: 5.2928 - mae: 5.7735\n",
            "Epoch 42/100\n",
            "31/31 [==============================] - 0s 10ms/step - loss: 5.2691 - mae: 5.7475\n",
            "Epoch 43/100\n",
            "31/31 [==============================] - 0s 10ms/step - loss: 5.2515 - mae: 5.7299\n",
            "Epoch 44/100\n",
            "31/31 [==============================] - 0s 10ms/step - loss: 5.2351 - mae: 5.7161\n",
            "Epoch 45/100\n",
            "31/31 [==============================] - 0s 10ms/step - loss: 5.2415 - mae: 5.7182\n",
            "Epoch 46/100\n",
            "31/31 [==============================] - 0s 10ms/step - loss: 5.1533 - mae: 5.6329\n",
            "Epoch 47/100\n",
            "31/31 [==============================] - 0s 10ms/step - loss: 5.2004 - mae: 5.6790\n",
            "Epoch 48/100\n",
            "31/31 [==============================] - 0s 11ms/step - loss: 5.1284 - mae: 5.6091\n",
            "Epoch 49/100\n",
            "31/31 [==============================] - 0s 10ms/step - loss: 5.1850 - mae: 5.6606\n",
            "Epoch 50/100\n",
            "31/31 [==============================] - 0s 10ms/step - loss: 5.1523 - mae: 5.6294\n",
            "Epoch 51/100\n",
            "31/31 [==============================] - 0s 10ms/step - loss: 5.0618 - mae: 5.5379\n",
            "Epoch 52/100\n",
            "31/31 [==============================] - 0s 10ms/step - loss: 5.0905 - mae: 5.5621\n",
            "Epoch 53/100\n",
            "31/31 [==============================] - 0s 10ms/step - loss: 5.0507 - mae: 5.5288\n",
            "Epoch 54/100\n",
            "31/31 [==============================] - 0s 10ms/step - loss: 5.0181 - mae: 5.4990\n",
            "Epoch 55/100\n",
            "31/31 [==============================] - 0s 9ms/step - loss: 5.0467 - mae: 5.5212\n",
            "Epoch 56/100\n",
            "31/31 [==============================] - 0s 10ms/step - loss: 5.4575 - mae: 5.9323\n",
            "Epoch 57/100\n",
            "31/31 [==============================] - 0s 10ms/step - loss: 4.9849 - mae: 5.4630\n",
            "Epoch 58/100\n",
            "31/31 [==============================] - 0s 9ms/step - loss: 5.0944 - mae: 5.5743\n",
            "Epoch 59/100\n",
            "31/31 [==============================] - 1s 14ms/step - loss: 4.9840 - mae: 5.4619\n",
            "Epoch 60/100\n",
            "31/31 [==============================] - 1s 15ms/step - loss: 5.0069 - mae: 5.4833\n",
            "Epoch 61/100\n",
            "31/31 [==============================] - 0s 9ms/step - loss: 4.8796 - mae: 5.3547\n",
            "Epoch 62/100\n",
            "31/31 [==============================] - 0s 9ms/step - loss: 5.0325 - mae: 5.5125\n",
            "Epoch 63/100\n",
            "31/31 [==============================] - 0s 9ms/step - loss: 4.8946 - mae: 5.3689\n",
            "Epoch 64/100\n",
            "31/31 [==============================] - 0s 9ms/step - loss: 4.9028 - mae: 5.3774\n",
            "Epoch 65/100\n",
            "31/31 [==============================] - 0s 9ms/step - loss: 5.0070 - mae: 5.4869\n",
            "Epoch 66/100\n",
            "31/31 [==============================] - 0s 9ms/step - loss: 4.8805 - mae: 5.3545\n",
            "Epoch 67/100\n",
            "31/31 [==============================] - 0s 9ms/step - loss: 4.8572 - mae: 5.3343\n",
            "Epoch 68/100\n",
            "31/31 [==============================] - 0s 9ms/step - loss: 4.8296 - mae: 5.3039\n",
            "Epoch 69/100\n",
            "31/31 [==============================] - 0s 10ms/step - loss: 4.8553 - mae: 5.3341\n",
            "Epoch 70/100\n",
            "31/31 [==============================] - 0s 9ms/step - loss: 4.8801 - mae: 5.3564\n",
            "Epoch 71/100\n",
            "31/31 [==============================] - 0s 9ms/step - loss: 4.8957 - mae: 5.3728\n",
            "Epoch 72/100\n",
            "31/31 [==============================] - 0s 9ms/step - loss: 4.8389 - mae: 5.3101\n",
            "Epoch 73/100\n",
            "31/31 [==============================] - 0s 9ms/step - loss: 4.8657 - mae: 5.3434\n",
            "Epoch 74/100\n",
            "31/31 [==============================] - 0s 10ms/step - loss: 4.7529 - mae: 5.2282\n",
            "Epoch 75/100\n",
            "31/31 [==============================] - 0s 9ms/step - loss: 4.8363 - mae: 5.3111\n",
            "Epoch 76/100\n",
            "31/31 [==============================] - 0s 9ms/step - loss: 4.7323 - mae: 5.2133\n",
            "Epoch 77/100\n",
            "31/31 [==============================] - 0s 10ms/step - loss: 4.7235 - mae: 5.1979\n",
            "Epoch 78/100\n",
            "31/31 [==============================] - 0s 9ms/step - loss: 4.7761 - mae: 5.2511\n",
            "Epoch 79/100\n",
            "31/31 [==============================] - 0s 9ms/step - loss: 4.7645 - mae: 5.2391\n",
            "Epoch 80/100\n",
            "31/31 [==============================] - 0s 9ms/step - loss: 4.7343 - mae: 5.2078\n",
            "Epoch 81/100\n",
            "31/31 [==============================] - 0s 9ms/step - loss: 4.7203 - mae: 5.1916\n",
            "Epoch 82/100\n",
            "31/31 [==============================] - 0s 9ms/step - loss: 4.7133 - mae: 5.1908\n",
            "Epoch 83/100\n",
            "31/31 [==============================] - 0s 9ms/step - loss: 4.7476 - mae: 5.2223\n",
            "Epoch 84/100\n",
            "31/31 [==============================] - 1s 14ms/step - loss: 4.6937 - mae: 5.1730\n",
            "Epoch 85/100\n",
            "31/31 [==============================] - 1s 14ms/step - loss: 4.7660 - mae: 5.2451\n",
            "Epoch 86/100\n",
            "31/31 [==============================] - 1s 15ms/step - loss: 4.7573 - mae: 5.2356\n",
            "Epoch 87/100\n",
            "31/31 [==============================] - 1s 11ms/step - loss: 4.7440 - mae: 5.2205\n",
            "Epoch 88/100\n",
            "31/31 [==============================] - 0s 10ms/step - loss: 4.8142 - mae: 5.2907\n",
            "Epoch 89/100\n",
            "31/31 [==============================] - 0s 10ms/step - loss: 4.8351 - mae: 5.3115\n",
            "Epoch 90/100\n",
            "31/31 [==============================] - 0s 10ms/step - loss: 4.7194 - mae: 5.1932\n",
            "Epoch 91/100\n",
            "31/31 [==============================] - 0s 10ms/step - loss: 4.7167 - mae: 5.1886\n",
            "Epoch 92/100\n",
            "31/31 [==============================] - 0s 10ms/step - loss: 4.6716 - mae: 5.1498\n",
            "Epoch 93/100\n",
            "31/31 [==============================] - 0s 10ms/step - loss: 4.6157 - mae: 5.0896\n",
            "Epoch 94/100\n",
            "31/31 [==============================] - 0s 10ms/step - loss: 4.7712 - mae: 5.2460\n",
            "Epoch 95/100\n",
            "31/31 [==============================] - 0s 10ms/step - loss: 4.6606 - mae: 5.1371\n",
            "Epoch 96/100\n",
            "31/31 [==============================] - 0s 9ms/step - loss: 4.7360 - mae: 5.2128\n",
            "Epoch 97/100\n",
            "31/31 [==============================] - 0s 10ms/step - loss: 4.8001 - mae: 5.2784\n",
            "Epoch 98/100\n",
            "31/31 [==============================] - 0s 10ms/step - loss: 4.6319 - mae: 5.1079\n",
            "Epoch 99/100\n",
            "31/31 [==============================] - 0s 11ms/step - loss: 4.7070 - mae: 5.1840\n",
            "Epoch 100/100\n",
            "31/31 [==============================] - 0s 11ms/step - loss: 4.8074 - mae: 5.2820\n"
          ]
        }
      ],
      "source": [
        "# Reset states generated by Keras\n",
        "tf.keras.backend.clear_session()\n",
        "\n",
        "# Build the model\n",
        "model = tf.keras.models.Sequential([\n",
        "  tf.keras.layers.Lambda(lambda x: tf.expand_dims(x, axis=-1),\n",
        "                      input_shape=[None]),\n",
        "   tf.keras.layers.Bidirectional(tf.keras.layers.LSTM(32, return_sequences=True)),\n",
        "  tf.keras.layers.Bidirectional(tf.keras.layers.LSTM(32)),\n",
        "  tf.keras.layers.Dense(1),\n",
        "  tf.keras.layers.Lambda(lambda x: x * 100.0)\n",
        "])\n",
        "\n",
        "# Set the learning rate\n",
        "learning_rate = 2e-6\n",
        "\n",
        "# Set the optimizer \n",
        "optimizer = tf.keras.optimizers.SGD(learning_rate=learning_rate, momentum=0.9)\n",
        "\n",
        "# Set the training parameters\n",
        "model.compile(loss=tf.keras.losses.Huber(),\n",
        "              optimizer=optimizer,\n",
        "              metrics=[\"mae\"])\n",
        "\n",
        "# Train the model\n",
        "history = model.fit(dataset,epochs=100)"
      ]
    },
    {
      "cell_type": "markdown",
      "metadata": {
        "id": "RjP4kbGiI7cw"
      },
      "source": [
        "## Model Prediction\n",
        "\n",
        "You will then generate batches of windows to generate predictions that align with the validation set."
      ]
    },
    {
      "cell_type": "code",
      "execution_count": 12,
      "metadata": {
        "id": "QO8cfKwKBBG6"
      },
      "outputs": [],
      "source": [
        "def model_forecast(model, series, window_size, batch_size):\n",
        "    \"\"\"Uses an input model to generate predictions on data windows\n",
        "\n",
        "    Args:\n",
        "      model (TF Keras Model) - model that accepts data windows\n",
        "      series (array of float) - contains the values of the time series\n",
        "      window_size (int) - the number of time steps to include in the window\n",
        "      batch_size (int) - the batch size\n",
        "\n",
        "    Returns:\n",
        "      forecast (numpy array) - array containing predictions\n",
        "    \"\"\"\n",
        "\n",
        "    # Generate a TF Dataset from the series values\n",
        "    dataset = tf.data.Dataset.from_tensor_slices(series)\n",
        "\n",
        "    # Window the data but only take those with the specified size\n",
        "    dataset = dataset.window(window_size, shift=1, drop_remainder=True)\n",
        "\n",
        "    # Flatten the windows by putting its elements in a single batch\n",
        "    dataset = dataset.flat_map(lambda w: w.batch(window_size))\n",
        "    \n",
        "    # Create batches of windows\n",
        "    dataset = dataset.batch(batch_size).prefetch(1)\n",
        "    \n",
        "    # Get predictions on the entire dataset\n",
        "    forecast = model.predict(dataset)\n",
        "    \n",
        "    return forecast"
      ]
    },
    {
      "cell_type": "code",
      "execution_count": 13,
      "metadata": {
        "id": "_plB3UseBD8o",
        "colab": {
          "base_uri": "https://localhost:8080/",
          "height": 560
        },
        "outputId": "af320885-a8e7-481b-d87e-55bce7aec492"
      },
      "outputs": [
        {
          "output_type": "stream",
          "name": "stdout",
          "text": [
            "15/15 [==============================] - 1s 8ms/step\n"
          ]
        },
        {
          "output_type": "display_data",
          "data": {
            "text/plain": [
              "<Figure size 1000x600 with 1 Axes>"
            ],
            "image/png": "[encoded data removed]"
          },
          "metadata": {}
        }
      ],
      "source": [
        "# Reduce the original series\n",
        "forecast_series = series[split_time-window_size:-1]\n",
        "\n",
        "# Use helper function to generate predictions\n",
        "forecast = model_forecast(model, forecast_series, window_size, batch_size)\n",
        "\n",
        "# Drop single dimensional axis\n",
        "results = forecast.squeeze()\n",
        "\n",
        "# Plot the results\n",
        "plot_series(time_valid, (x_valid, results))"
      ]
    },
    {
      "cell_type": "markdown",
      "metadata": {
        "id": "Nn8iSQkZtaRC"
      },
      "source": [
        "You can then generate the metrics to evaluate the model's performance."
      ]
    },
    {
      "cell_type": "code",
      "execution_count": 14,
      "metadata": {
        "id": "-IKhueZaBGID",
        "colab": {
          "base_uri": "https://localhost:8080/"
        },
        "outputId": "fefb388e-2f4a-4db0-ee0f-67e11b231a7d"
      },
      "outputs": [
        {
          "output_type": "stream",
          "name": "stdout",
          "text": [
            "85.046715\n",
            "6.694729\n"
          ]
        }
      ],
      "source": [
        "# Compute the MSE and MAE\n",
        "print(tf.keras.metrics.mean_squared_error(x_valid, results).numpy())\n",
        "print(tf.keras.metrics.mean_absolute_error(x_valid, results).numpy())"
      ]
    },
    {
      "cell_type": "markdown",
      "metadata": {
        "id": "bzPIqeMWvbPy"
      },
      "source": [
        "## Wrap Up\n",
        "\n",
        "This concludes this short exercise on using LSTMs for time series forecasting. Next week, you will build upon this and add convolutions. Then, you will start to move away from synthetic data and use real-world datasets. See you there!"
      ]
    },
    {
      "cell_type": "markdown",
      "metadata": {
        "id": "U5PqTePGHeMH"
      },
      "source": [
        "## Optional: Including a Validation Set while Training\n",
        "\n",
        "Back in the first course of this specialization, you saw how you can also monitor the performance of your model against a validation set while training. You can also do that for this lab. \n",
        "\n",
        "First, you need to generate a `val_set` which are data windows and labels that your model can accept. You can simply reuse the `windowed_dataset` function for that and you can pass in the `x_valid` points to generate the windows."
      ]
    },
    {
      "cell_type": "code",
      "execution_count": 15,
      "metadata": {
        "id": "kvFVwL3PC4iX"
      },
      "outputs": [],
      "source": [
        "# Generate data windows of the validation set\n",
        "val_set = windowed_dataset(x_valid, window_size, batch_size, shuffle_buffer_size)"
      ]
    },
    {
      "cell_type": "markdown",
      "metadata": {
        "id": "p68j6XxEvP9K"
      },
      "source": [
        "You can then do the same training as before but pass in the `val_set` to the `validation_data` parameter of the `fit()` method."
      ]
    },
    {
      "cell_type": "code",
      "execution_count": 16,
      "metadata": {
        "id": "wujKz6tXDSn0",
        "colab": {
          "base_uri": "https://localhost:8080/"
        },
        "outputId": "b0e00f9b-9ff3-4e91-8293-d23fdb25efb5"
      },
      "outputs": [
        {
          "output_type": "stream",
          "name": "stdout",
          "text": [
            "Epoch 1/100\n",
            "31/31 [==============================] - 8s 66ms/step - loss: 21.9474 - mae: 22.4419 - val_loss: 28.5428 - val_mae: 29.0426\n",
            "Epoch 2/100\n",
            "31/31 [==============================] - 1s 13ms/step - loss: 11.3325 - mae: 11.8228 - val_loss: 25.0244 - val_mae: 25.5237\n",
            "Epoch 3/100\n",
            "31/31 [==============================] - 1s 14ms/step - loss: 7.2867 - mae: 7.7707 - val_loss: 14.3389 - val_mae: 14.8319\n",
            "Epoch 4/100\n",
            "31/31 [==============================] - 0s 13ms/step - loss: 6.4666 - mae: 6.9506 - val_loss: 11.2519 - val_mae: 11.7440\n",
            "Epoch 5/100\n",
            "31/31 [==============================] - 0s 13ms/step - loss: 6.7553 - mae: 7.2377 - val_loss: 13.5084 - val_mae: 14.0023\n",
            "Epoch 6/100\n",
            "31/31 [==============================] - 0s 13ms/step - loss: 6.1746 - mae: 6.6575 - val_loss: 12.2215 - val_mae: 12.7163\n",
            "Epoch 7/100\n",
            "31/31 [==============================] - 1s 14ms/step - loss: 5.8483 - mae: 6.3308 - val_loss: 9.7208 - val_mae: 10.2100\n",
            "Epoch 8/100\n",
            "31/31 [==============================] - 0s 13ms/step - loss: 5.7251 - mae: 6.2061 - val_loss: 9.7407 - val_mae: 10.2310\n",
            "Epoch 9/100\n",
            "31/31 [==============================] - 1s 13ms/step - loss: 5.8080 - mae: 6.2876 - val_loss: 12.7759 - val_mae: 13.2662\n",
            "Epoch 10/100\n",
            "31/31 [==============================] - 1s 20ms/step - loss: 5.5286 - mae: 6.0130 - val_loss: 10.2939 - val_mae: 10.7836\n",
            "Epoch 11/100\n",
            "31/31 [==============================] - 1s 21ms/step - loss: 5.4088 - mae: 5.8882 - val_loss: 8.9172 - val_mae: 9.4053\n",
            "Epoch 12/100\n",
            "31/31 [==============================] - 1s 20ms/step - loss: 5.2267 - mae: 5.7063 - val_loss: 11.6035 - val_mae: 12.0955\n",
            "Epoch 13/100\n",
            "31/31 [==============================] - 1s 14ms/step - loss: 5.4757 - mae: 5.9606 - val_loss: 11.0488 - val_mae: 11.5417\n",
            "Epoch 14/100\n",
            "31/31 [==============================] - 1s 14ms/step - loss: 5.1480 - mae: 5.6296 - val_loss: 7.9534 - val_mae: 8.4419\n",
            "Epoch 15/100\n",
            "31/31 [==============================] - 1s 14ms/step - loss: 5.0850 - mae: 5.5660 - val_loss: 8.1267 - val_mae: 8.6143\n",
            "Epoch 16/100\n",
            "31/31 [==============================] - 1s 14ms/step - loss: 5.0149 - mae: 5.4909 - val_loss: 6.9366 - val_mae: 7.4171\n",
            "Epoch 17/100\n",
            "31/31 [==============================] - 0s 12ms/step - loss: 4.9813 - mae: 5.4597 - val_loss: 8.9268 - val_mae: 9.4201\n",
            "Epoch 18/100\n",
            "31/31 [==============================] - 1s 13ms/step - loss: 4.9884 - mae: 5.4661 - val_loss: 6.9954 - val_mae: 7.4798\n",
            "Epoch 19/100\n",
            "31/31 [==============================] - 0s 13ms/step - loss: 4.8528 - mae: 5.3295 - val_loss: 6.7948 - val_mae: 7.2792\n",
            "Epoch 20/100\n",
            "31/31 [==============================] - 0s 13ms/step - loss: 4.9358 - mae: 5.4152 - val_loss: 6.3717 - val_mae: 6.8549\n",
            "Epoch 21/100\n",
            "31/31 [==============================] - 0s 13ms/step - loss: 4.9457 - mae: 5.4257 - val_loss: 6.8409 - val_mae: 7.3184\n",
            "Epoch 22/100\n",
            "31/31 [==============================] - 0s 13ms/step - loss: 4.8279 - mae: 5.3074 - val_loss: 6.9648 - val_mae: 7.4436\n",
            "Epoch 23/100\n",
            "31/31 [==============================] - 1s 14ms/step - loss: 4.7881 - mae: 5.2657 - val_loss: 6.4390 - val_mae: 6.9182\n",
            "Epoch 24/100\n",
            "31/31 [==============================] - 0s 13ms/step - loss: 4.7126 - mae: 5.1942 - val_loss: 6.6076 - val_mae: 7.0856\n",
            "Epoch 25/100\n",
            "31/31 [==============================] - 1s 13ms/step - loss: 4.7076 - mae: 5.1887 - val_loss: 6.1644 - val_mae: 6.6477\n",
            "Epoch 26/100\n",
            "31/31 [==============================] - 0s 13ms/step - loss: 4.8116 - mae: 5.2904 - val_loss: 5.7849 - val_mae: 6.2677\n",
            "Epoch 27/100\n",
            "31/31 [==============================] - 0s 13ms/step - loss: 4.7784 - mae: 5.2572 - val_loss: 6.5175 - val_mae: 6.9957\n",
            "Epoch 28/100\n",
            "31/31 [==============================] - 1s 13ms/step - loss: 4.7135 - mae: 5.1879 - val_loss: 5.8230 - val_mae: 6.3043\n",
            "Epoch 29/100\n",
            "31/31 [==============================] - 1s 13ms/step - loss: 4.7871 - mae: 5.2669 - val_loss: 6.2559 - val_mae: 6.7325\n",
            "Epoch 30/100\n",
            "31/31 [==============================] - 0s 13ms/step - loss: 4.7602 - mae: 5.2374 - val_loss: 5.7606 - val_mae: 6.2439\n",
            "Epoch 31/100\n",
            "31/31 [==============================] - 1s 18ms/step - loss: 4.7034 - mae: 5.1800 - val_loss: 6.5651 - val_mae: 7.0432\n",
            "Epoch 32/100\n",
            "31/31 [==============================] - 1s 21ms/step - loss: 4.7011 - mae: 5.1792 - val_loss: 6.1788 - val_mae: 6.6562\n",
            "Epoch 33/100\n",
            "31/31 [==============================] - 1s 22ms/step - loss: 4.6481 - mae: 5.1253 - val_loss: 6.5163 - val_mae: 6.9961\n",
            "Epoch 34/100\n",
            "31/31 [==============================] - 1s 23ms/step - loss: 4.9107 - mae: 5.3895 - val_loss: 7.5728 - val_mae: 8.0629\n",
            "Epoch 35/100\n",
            "31/31 [==============================] - 1s 18ms/step - loss: 4.6774 - mae: 5.1489 - val_loss: 6.4878 - val_mae: 6.9660\n",
            "Epoch 36/100\n",
            "31/31 [==============================] - 0s 13ms/step - loss: 4.7648 - mae: 5.2421 - val_loss: 6.5779 - val_mae: 7.0588\n",
            "Epoch 37/100\n",
            "31/31 [==============================] - 0s 13ms/step - loss: 4.6990 - mae: 5.1725 - val_loss: 5.8046 - val_mae: 6.2862\n",
            "Epoch 38/100\n",
            "31/31 [==============================] - 0s 13ms/step - loss: 4.7273 - mae: 5.2050 - val_loss: 5.8075 - val_mae: 6.2893\n",
            "Epoch 39/100\n",
            "31/31 [==============================] - 0s 13ms/step - loss: 4.7251 - mae: 5.2044 - val_loss: 6.1159 - val_mae: 6.5925\n",
            "Epoch 40/100\n",
            "31/31 [==============================] - 0s 13ms/step - loss: 4.7327 - mae: 5.2105 - val_loss: 5.2642 - val_mae: 5.7423\n",
            "Epoch 41/100\n",
            "31/31 [==============================] - 1s 14ms/step - loss: 4.6564 - mae: 5.1344 - val_loss: 5.6964 - val_mae: 6.1797\n",
            "Epoch 42/100\n",
            "31/31 [==============================] - 0s 13ms/step - loss: 4.6674 - mae: 5.1469 - val_loss: 5.8865 - val_mae: 6.3625\n",
            "Epoch 43/100\n",
            "31/31 [==============================] - 1s 14ms/step - loss: 4.8276 - mae: 5.3082 - val_loss: 5.2505 - val_mae: 5.7311\n",
            "Epoch 44/100\n",
            "31/31 [==============================] - 0s 13ms/step - loss: 4.7028 - mae: 5.1754 - val_loss: 5.3922 - val_mae: 5.8718\n",
            "Epoch 45/100\n",
            "31/31 [==============================] - 0s 13ms/step - loss: 4.6355 - mae: 5.1129 - val_loss: 5.1850 - val_mae: 5.6631\n",
            "Epoch 46/100\n",
            "31/31 [==============================] - 0s 12ms/step - loss: 4.5862 - mae: 5.0642 - val_loss: 6.8245 - val_mae: 7.3065\n",
            "Epoch 47/100\n",
            "31/31 [==============================] - 0s 13ms/step - loss: 4.6223 - mae: 5.1000 - val_loss: 6.2877 - val_mae: 6.7648\n",
            "Epoch 48/100\n",
            "31/31 [==============================] - 1s 20ms/step - loss: 4.5712 - mae: 5.0487 - val_loss: 5.6230 - val_mae: 6.1055\n",
            "Epoch 49/100\n",
            "31/31 [==============================] - 1s 24ms/step - loss: 4.5357 - mae: 5.0133 - val_loss: 5.4635 - val_mae: 5.9513\n",
            "Epoch 50/100\n",
            "31/31 [==============================] - 1s 20ms/step - loss: 4.5519 - mae: 5.0289 - val_loss: 5.5134 - val_mae: 5.9954\n",
            "Epoch 51/100\n",
            "31/31 [==============================] - 1s 13ms/step - loss: 4.8208 - mae: 5.2995 - val_loss: 5.3976 - val_mae: 5.8785\n",
            "Epoch 52/100\n",
            "31/31 [==============================] - 0s 13ms/step - loss: 4.6640 - mae: 5.1388 - val_loss: 5.2980 - val_mae: 5.7752\n",
            "Epoch 53/100\n",
            "31/31 [==============================] - 1s 14ms/step - loss: 4.6278 - mae: 5.1036 - val_loss: 7.3305 - val_mae: 7.8193\n",
            "Epoch 54/100\n",
            "31/31 [==============================] - 0s 12ms/step - loss: 4.6891 - mae: 5.1654 - val_loss: 6.3904 - val_mae: 6.8696\n",
            "Epoch 55/100\n",
            "31/31 [==============================] - 0s 13ms/step - loss: 4.6385 - mae: 5.1203 - val_loss: 5.5909 - val_mae: 6.0717\n",
            "Epoch 56/100\n",
            "31/31 [==============================] - 0s 12ms/step - loss: 4.5493 - mae: 5.0260 - val_loss: 5.6422 - val_mae: 6.1232\n",
            "Epoch 57/100\n",
            "31/31 [==============================] - 1s 13ms/step - loss: 4.5364 - mae: 5.0128 - val_loss: 5.4076 - val_mae: 5.8951\n",
            "Epoch 58/100\n",
            "31/31 [==============================] - 0s 13ms/step - loss: 4.4953 - mae: 4.9734 - val_loss: 5.1322 - val_mae: 5.6121\n",
            "Epoch 59/100\n",
            "31/31 [==============================] - 1s 13ms/step - loss: 4.7169 - mae: 5.1923 - val_loss: 5.5779 - val_mae: 6.0612\n",
            "Epoch 60/100\n",
            "31/31 [==============================] - 0s 13ms/step - loss: 4.7107 - mae: 5.1899 - val_loss: 5.6033 - val_mae: 6.0851\n",
            "Epoch 61/100\n",
            "31/31 [==============================] - 1s 14ms/step - loss: 4.5364 - mae: 5.0146 - val_loss: 5.6852 - val_mae: 6.1657\n",
            "Epoch 62/100\n",
            "31/31 [==============================] - 0s 13ms/step - loss: 4.6104 - mae: 5.0873 - val_loss: 5.2900 - val_mae: 5.7708\n",
            "Epoch 63/100\n",
            "31/31 [==============================] - 0s 13ms/step - loss: 4.5605 - mae: 5.0399 - val_loss: 5.1495 - val_mae: 5.6268\n",
            "Epoch 64/100\n",
            "31/31 [==============================] - 1s 14ms/step - loss: 4.6782 - mae: 5.1550 - val_loss: 5.1651 - val_mae: 5.6469\n",
            "Epoch 65/100\n",
            "31/31 [==============================] - 0s 13ms/step - loss: 4.5274 - mae: 5.0024 - val_loss: 5.4137 - val_mae: 5.8994\n",
            "Epoch 66/100\n",
            "31/31 [==============================] - 1s 13ms/step - loss: 4.5967 - mae: 5.0732 - val_loss: 5.2260 - val_mae: 5.7065\n",
            "Epoch 67/100\n",
            "31/31 [==============================] - 0s 13ms/step - loss: 4.5825 - mae: 5.0616 - val_loss: 6.0211 - val_mae: 6.4989\n",
            "Epoch 68/100\n",
            "31/31 [==============================] - 1s 13ms/step - loss: 4.4800 - mae: 4.9598 - val_loss: 5.1430 - val_mae: 5.6239\n",
            "Epoch 69/100\n",
            "31/31 [==============================] - 1s 20ms/step - loss: 4.5481 - mae: 5.0242 - val_loss: 5.2587 - val_mae: 5.7419\n",
            "Epoch 70/100\n",
            "31/31 [==============================] - 1s 26ms/step - loss: 4.5558 - mae: 5.0376 - val_loss: 5.4490 - val_mae: 5.9354\n",
            "Epoch 71/100\n",
            "31/31 [==============================] - 1s 15ms/step - loss: 4.5654 - mae: 5.0447 - val_loss: 5.1601 - val_mae: 5.6402\n",
            "Epoch 72/100\n",
            "31/31 [==============================] - 0s 12ms/step - loss: 4.5777 - mae: 5.0547 - val_loss: 6.1806 - val_mae: 6.6595\n",
            "Epoch 73/100\n",
            "31/31 [==============================] - 1s 14ms/step - loss: 4.4717 - mae: 4.9493 - val_loss: 5.9598 - val_mae: 6.4395\n",
            "Epoch 74/100\n",
            "31/31 [==============================] - 0s 13ms/step - loss: 4.4736 - mae: 4.9494 - val_loss: 5.1178 - val_mae: 5.5990\n",
            "Epoch 75/100\n",
            "31/31 [==============================] - 0s 13ms/step - loss: 4.5221 - mae: 5.0004 - val_loss: 5.5949 - val_mae: 6.0757\n",
            "Epoch 76/100\n",
            "31/31 [==============================] - 0s 13ms/step - loss: 4.6424 - mae: 5.1185 - val_loss: 5.0891 - val_mae: 5.5689\n",
            "Epoch 77/100\n",
            "31/31 [==============================] - 1s 13ms/step - loss: 4.6280 - mae: 5.1038 - val_loss: 5.2971 - val_mae: 5.7818\n",
            "Epoch 78/100\n",
            "31/31 [==============================] - 0s 13ms/step - loss: 4.6615 - mae: 5.1379 - val_loss: 6.6640 - val_mae: 7.1444\n",
            "Epoch 79/100\n",
            "31/31 [==============================] - 1s 13ms/step - loss: 4.6613 - mae: 5.1378 - val_loss: 6.7107 - val_mae: 7.1885\n",
            "Epoch 80/100\n",
            "31/31 [==============================] - 1s 13ms/step - loss: 4.5548 - mae: 5.0343 - val_loss: 6.4564 - val_mae: 6.9382\n",
            "Epoch 81/100\n",
            "31/31 [==============================] - 1s 14ms/step - loss: 4.6392 - mae: 5.1146 - val_loss: 5.1665 - val_mae: 5.6448\n",
            "Epoch 82/100\n",
            "31/31 [==============================] - 1s 14ms/step - loss: 4.5452 - mae: 5.0203 - val_loss: 5.4926 - val_mae: 5.9748\n",
            "Epoch 83/100\n",
            "31/31 [==============================] - 0s 13ms/step - loss: 4.5076 - mae: 4.9875 - val_loss: 5.7993 - val_mae: 6.2790\n",
            "Epoch 84/100\n",
            "31/31 [==============================] - 1s 13ms/step - loss: 4.4969 - mae: 4.9754 - val_loss: 5.3567 - val_mae: 5.8391\n",
            "Epoch 85/100\n",
            "31/31 [==============================] - 0s 12ms/step - loss: 4.4782 - mae: 4.9549 - val_loss: 5.5868 - val_mae: 6.0661\n",
            "Epoch 86/100\n",
            "31/31 [==============================] - 0s 13ms/step - loss: 4.5256 - mae: 5.0066 - val_loss: 5.0478 - val_mae: 5.5278\n",
            "Epoch 87/100\n",
            "31/31 [==============================] - 0s 13ms/step - loss: 4.4935 - mae: 4.9755 - val_loss: 5.4898 - val_mae: 5.9712\n",
            "Epoch 88/100\n",
            "31/31 [==============================] - 1s 17ms/step - loss: 4.5153 - mae: 4.9918 - val_loss: 6.3780 - val_mae: 6.8558\n",
            "Epoch 89/100\n",
            "31/31 [==============================] - 1s 21ms/step - loss: 4.5204 - mae: 4.9940 - val_loss: 5.1515 - val_mae: 5.6343\n",
            "Epoch 90/100\n",
            "31/31 [==============================] - 1s 13ms/step - loss: 4.5101 - mae: 4.9863 - val_loss: 5.0255 - val_mae: 5.5022\n",
            "Epoch 91/100\n",
            "31/31 [==============================] - 0s 13ms/step - loss: 4.4770 - mae: 4.9497 - val_loss: 5.5662 - val_mae: 6.0463\n",
            "Epoch 92/100\n",
            "31/31 [==============================] - 0s 13ms/step - loss: 4.5131 - mae: 4.9886 - val_loss: 5.6490 - val_mae: 6.1307\n",
            "Epoch 93/100\n",
            "31/31 [==============================] - 1s 13ms/step - loss: 4.4999 - mae: 4.9776 - val_loss: 5.5279 - val_mae: 6.0080\n",
            "Epoch 94/100\n",
            "31/31 [==============================] - 1s 15ms/step - loss: 4.4572 - mae: 4.9348 - val_loss: 5.0165 - val_mae: 5.4932\n",
            "Epoch 95/100\n",
            "31/31 [==============================] - 1s 14ms/step - loss: 4.4965 - mae: 4.9723 - val_loss: 5.4654 - val_mae: 5.9440\n",
            "Epoch 96/100\n",
            "31/31 [==============================] - 1s 14ms/step - loss: 4.4313 - mae: 4.9107 - val_loss: 4.9366 - val_mae: 5.4077\n",
            "Epoch 97/100\n",
            "31/31 [==============================] - 1s 14ms/step - loss: 4.5178 - mae: 4.9929 - val_loss: 5.1828 - val_mae: 5.6663\n",
            "Epoch 98/100\n",
            "31/31 [==============================] - 1s 13ms/step - loss: 4.5523 - mae: 5.0307 - val_loss: 6.1641 - val_mae: 6.6439\n",
            "Epoch 99/100\n",
            "31/31 [==============================] - 1s 14ms/step - loss: 4.5057 - mae: 4.9830 - val_loss: 6.4194 - val_mae: 6.8986\n",
            "Epoch 100/100\n",
            "31/31 [==============================] - 0s 13ms/step - loss: 4.4821 - mae: 4.9628 - val_loss: 5.0643 - val_mae: 5.5453\n"
          ]
        }
      ],
      "source": [
        "# Reset states generated by Keras\n",
        "tf.keras.backend.clear_session()\n",
        "\n",
        "# Build the model\n",
        "model = tf.keras.models.Sequential([\n",
        "  tf.keras.layers.Lambda(lambda x: tf.expand_dims(x, axis=-1),\n",
        "                      input_shape=[None]),\n",
        "   tf.keras.layers.Bidirectional(tf.keras.layers.LSTM(32, return_sequences=True)),\n",
        "  tf.keras.layers.Bidirectional(tf.keras.layers.LSTM(32)),\n",
        "  tf.keras.layers.Dense(1),\n",
        "  tf.keras.layers.Lambda(lambda x: x * 100.0)\n",
        "])\n",
        "\n",
        "# Set the learning rate\n",
        "learning_rate = 2e-6\n",
        "\n",
        "# Set the optimizer \n",
        "optimizer = tf.keras.optimizers.SGD(learning_rate=learning_rate, momentum=0.9)\n",
        "\n",
        "# Set the training parameters\n",
        "model.compile(loss=tf.keras.losses.Huber(),\n",
        "              optimizer=optimizer,\n",
        "              metrics=[\"mae\"])\n",
        "\n",
        "# Train the model\n",
        "history = model.fit(dataset,epochs=100, validation_data=val_set)"
      ]
    }
  ],
  "metadata": {
    "accelerator": "GPU",
    "colab": {
      "provenance": []
    },
    "kernelspec": {
      "display_name": "Python 3",
      "language": "python",
      "name": "python3"
    },
    "language_info": {
      "codemirror_mode": {
        "name": "ipython",
        "version": 3
      },
      "file_extension": ".py",
      "mimetype": "text/x-python",
      "name": "python",
      "nbconvert_exporter": "python",
      "pygments_lexer": "ipython3",
      "version": "3.7.4"
    },
    "gpuClass": "standard"
  },
  "nbformat": 4,
  "nbformat_minor": 0
}